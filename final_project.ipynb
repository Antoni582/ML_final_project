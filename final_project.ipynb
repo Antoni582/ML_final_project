{
 "cells": [
  {
   "cell_type": "markdown",
   "id": "5456f7af",
   "metadata": {},
   "source": [
    "# Final Project\n",
    "\n",
    "## Introduction\n",
    "### What is the machine learning problem you are trying to solve? \n",
    "\n",
    "The problem with today's dating apps, is that they show you possible matches based on a user's search criterial. That could be an age range, a distance preference, and their sex. We think that this amount of attributes allow for a shallow way of looking at potential matches. Reasong being, because the majority of those matches are based on looks alone. And if two users decide to go on a date, there is a great chance that they won't be going on a second date. So, we want to maximize the probability that if two users match and go on a date, they will have a better experience and increase their odds of going on a second date. \n",
    "\n",
    "### Why does the problem matter?\n",
    "\n",
    "Given how society has evolved with techonology, we need to create an environment for dating that is more personal as if it were two people meeting in real life. For example, when two people decide to go on a date in person, they know a lot more about each other than if they had just swipped right based on a short bio and some pictures. In-person dating is more personal because, for the most part, the people involved know more about each other. They has a grasp of their personality, and the things they like, and use those to make a decision on whether to go on a date or not. \n",
    "\n",
    "\n",
    "### What could the result of your predictive model be used for?\n",
    "\n",
    "The results can be used to make matching suggestions to users based on personal attributes from both parties. This will, hopefully, create a better dating experience. \n",
    "\n",
    "### Why would we want to be able to predict the thing you're trying to predict? \n",
    "\n",
    "To make matching predictions that are meaningful and create value to the organization that implement this model and the users.\n",
    "\n",
    "\n",
    "### Describe the dataset that you will use to tackle this problem\n",
    "\n",
    "The dataset contains records with 123 attributes. Each individual record contains attributes for 2 people and their attributes like age, education, friendliness, how funny they are, attractiveness, etc. It also contains attributes that show what they value in a significant other. \n",
    "\n"
   ]
  },
  {
   "cell_type": "code",
   "execution_count": null,
   "id": "aab34b26",
   "metadata": {},
   "outputs": [],
   "source": []
  }
 ],
 "metadata": {
  "kernelspec": {
   "display_name": "Python 3 (ipykernel)",
   "language": "python",
   "name": "python3"
  },
  "language_info": {
   "codemirror_mode": {
    "name": "ipython",
    "version": 3
   },
   "file_extension": ".py",
   "mimetype": "text/x-python",
   "name": "python",
   "nbconvert_exporter": "python",
   "pygments_lexer": "ipython3",
   "version": "3.9.13"
  }
 },
 "nbformat": 4,
 "nbformat_minor": 5
}
